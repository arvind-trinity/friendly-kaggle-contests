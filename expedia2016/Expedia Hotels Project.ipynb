{
 "cells": [
  {
   "cell_type": "code",
   "execution_count": 1,
   "metadata": {
    "collapsed": false
   },
   "outputs": [],
   "source": [
    "import csv\n",
    "import ml_metrics as metrics\n",
    "from sklearn.linear_model import LogisticRegression\n",
    "from sklearn.cross_validation import train_test_split\n",
    "from sklearn.preprocessing import OneHotEncoder"
   ]
  },
  {
   "cell_type": "code",
   "execution_count": 2,
   "metadata": {
    "collapsed": true
   },
   "outputs": [],
   "source": [
    "# a scoring function\n",
    "def score(actual, predicted, k):\n",
    "    return metrics.mapk(actual, predicted, k)"
   ]
  },
  {
   "cell_type": "code",
   "execution_count": 3,
   "metadata": {
    "collapsed": false
   },
   "outputs": [],
   "source": [
    "# read in and parse the data\n",
    "X,y = [],[]\n",
    "with open(\"/home/ryan/projects/expedia2016/data/train.csv\") as f:\n",
    "    reader = csv.reader(f)\n",
    "    header = next(reader)\n",
    "    for r in reader:\n",
    "        if r[-1] !=0:\n",
    "            row = dict((k,v) for k,v in zip(header, r))\n",
    "            y.append(int(row[\"hotel_cluster\"]))\n",
    "            xrow = [int(row[\"site_name\"]),\n",
    "                    int(row[\"channel\"]),\n",
    "                    int(row[\"is_mobile\"]), \n",
    "                    int(row[\"is_package\"]),\n",
    "                    int(row[\"srch_adults_cnt\"]),\n",
    "                    int(row[\"srch_children_cnt\"]), \n",
    "                    int(row[\"srch_rm_cnt\"]), \n",
    "                    int(row[\"cnt\"])]\n",
    "            X.append(xrow)\n",
    "print(\"Size of raw data: %d x %d\" % (len(X),len(X[0])))"
   ]
  },
  {
   "cell_type": "code",
   "execution_count": 6,
   "metadata": {
    "collapsed": false
   },
   "outputs": [],
   "source": [
    "# one-hot encoder breaks categorical variables into binary features for each value \n",
    "encoder = OneHotEncoder(categorical_features=[0,1])\n",
    "X_onehot = encoder.fit_transform(X)"
   ]
  },
  {
   "cell_type": "code",
   "execution_count": 8,
   "metadata": {
    "collapsed": false
   },
   "outputs": [
    {
     "name": "stdout",
     "output_type": "stream",
     "text": [
      "Size of encoded data: 37670293 x 62\n"
     ]
    }
   ],
   "source": [
    "print(\"Size of encoded data: %d x %d\" % X_onehot.shape)"
   ]
  },
  {
   "cell_type": "code",
   "execution_count": 9,
   "metadata": {
    "collapsed": false
   },
   "outputs": [],
   "source": [
    "# Split the data into train and test.\n",
    "X_train, X_test, y_train, y_test = train_test_split(X_onehot, y, test_size=0.95, random_state=42)"
   ]
  },
  {
   "cell_type": "code",
   "execution_count": null,
   "metadata": {
    "collapsed": false
   },
   "outputs": [],
   "source": [
    "# fit the logistic regression model\n",
    "lr_model = LogisticRegression(n_jobs=4)\n",
    "lr_model.fit(X_train, y_train)\n",
    "y_predicted = lr_model.predict(X_test)"
   ]
  },
  {
   "cell_type": "code",
   "execution_count": null,
   "metadata": {
    "collapsed": true
   },
   "outputs": [],
   "source": [
    "print(\"SCORE: %s\" % score([a for a in y_test], [p for p in y_predicted]))"
   ]
  },
  {
   "cell_type": "code",
   "execution_count": null,
   "metadata": {
    "collapsed": true
   },
   "outputs": [],
   "source": []
  }
 ],
 "metadata": {
  "kernelspec": {
   "display_name": "Python 3",
   "language": "python",
   "name": "python3"
  },
  "language_info": {
   "codemirror_mode": {
    "name": "ipython",
    "version": 3
   },
   "file_extension": ".py",
   "mimetype": "text/x-python",
   "name": "python",
   "nbconvert_exporter": "python",
   "pygments_lexer": "ipython3",
   "version": "3.4.3"
  }
 },
 "nbformat": 4,
 "nbformat_minor": 0
}
